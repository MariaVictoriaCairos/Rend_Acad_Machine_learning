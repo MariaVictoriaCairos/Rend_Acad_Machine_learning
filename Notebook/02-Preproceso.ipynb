{
 "cells": [
  {
   "cell_type": "markdown",
   "metadata": {},
   "source": [
    "## Importación de librerías"
   ]
  },
  {
   "cell_type": "code",
   "execution_count": 1,
   "metadata": {},
   "outputs": [],
   "source": [
    "# Manipulación de datos\n",
    "import numpy as np\n",
    "import pandas as pd\n",
    "import math\n",
    "\n",
    "# Estadística y normalización\n",
    "from scipy.stats import zscore\n",
    "from sklearn.preprocessing import MinMaxScaler, OneHotEncoder, LabelEncoder\n",
    "from category_encoders import TargetEncoder\n",
    "\n",
    "# Visualización\n",
    "import matplotlib.pyplot as plt\n",
    "import seaborn as sns"
   ]
  },
  {
   "cell_type": "markdown",
   "metadata": {},
   "source": [
    "## Carga de datos"
   ]
  },
  {
   "cell_type": "code",
   "execution_count": 2,
   "metadata": {},
   "outputs": [
    {
     "data": {
      "application/vnd.microsoft.datawrangler.viewer.v0+json": {
       "columns": [
        {
         "name": "index",
         "rawType": "int64",
         "type": "integer"
        },
        {
         "name": "nota_anterior",
         "rawType": "float64",
         "type": "float"
        },
        {
         "name": "tasa_asistencia",
         "rawType": "float64",
         "type": "float"
        },
        {
         "name": "horas_sueno",
         "rawType": "float64",
         "type": "float"
        },
        {
         "name": "edad",
         "rawType": "int64",
         "type": "integer"
        },
        {
         "name": "nivel_dificultad",
         "rawType": "object",
         "type": "string"
        },
        {
         "name": "tiene_tutor",
         "rawType": "object",
         "type": "string"
        },
        {
         "name": "horario_estudio_preferido",
         "rawType": "object",
         "type": "unknown"
        },
        {
         "name": "estilo_aprendizaje",
         "rawType": "object",
         "type": "unknown"
        },
        {
         "name": "nota_final",
         "rawType": "float64",
         "type": "float"
        },
        {
         "name": "aprobado",
         "rawType": "int64",
         "type": "integer"
        }
       ],
       "ref": "fab86a74-9191-403a-b51d-2a0ad3ee6c5c",
       "rows": [
        [
         "0",
         "48.830600953982184",
         "86.64018172631499",
         "6.675694179152657",
         "25",
         "Fácil",
         "Sí",
         "Tarde",
         "Lectura/Escritura",
         "84.4",
         "1"
        ],
        [
         "1",
         "80.82570664326124",
         "83.44965544904211",
         "4.616843562140823",
         "18",
         "Difícil",
         "No",
         "Tarde",
         null,
         "72.0",
         "1"
        ],
        [
         "2",
         "90.38369427718838",
         "74.62360717097394",
         "7.755246085587813",
         "25",
         "Fácil",
         "No",
         "Mañana",
         "Lectura/Escritura",
         "80.0",
         "1"
        ],
        [
         "3",
         "81.87825713706148",
         "82.84984071809973",
         "8.592826202315608",
         "23",
         "Fácil",
         "No",
         null,
         "Visual",
         "78.2",
         "1"
        ],
        [
         "4",
         "66.25417890677699",
         "54.53993487859529",
         "6.671840397082623",
         "21",
         "Medio",
         "No",
         null,
         "Auditivo",
         "66.0",
         "1"
        ]
       ],
       "shape": {
        "columns": 10,
        "rows": 5
       }
      },
      "text/html": [
       "<div>\n",
       "<style scoped>\n",
       "    .dataframe tbody tr th:only-of-type {\n",
       "        vertical-align: middle;\n",
       "    }\n",
       "\n",
       "    .dataframe tbody tr th {\n",
       "        vertical-align: top;\n",
       "    }\n",
       "\n",
       "    .dataframe thead th {\n",
       "        text-align: right;\n",
       "    }\n",
       "</style>\n",
       "<table border=\"1\" class=\"dataframe\">\n",
       "  <thead>\n",
       "    <tr style=\"text-align: right;\">\n",
       "      <th></th>\n",
       "      <th>nota_anterior</th>\n",
       "      <th>tasa_asistencia</th>\n",
       "      <th>horas_sueno</th>\n",
       "      <th>edad</th>\n",
       "      <th>nivel_dificultad</th>\n",
       "      <th>tiene_tutor</th>\n",
       "      <th>horario_estudio_preferido</th>\n",
       "      <th>estilo_aprendizaje</th>\n",
       "      <th>nota_final</th>\n",
       "      <th>aprobado</th>\n",
       "    </tr>\n",
       "  </thead>\n",
       "  <tbody>\n",
       "    <tr>\n",
       "      <th>0</th>\n",
       "      <td>48.830601</td>\n",
       "      <td>86.640182</td>\n",
       "      <td>6.675694</td>\n",
       "      <td>25</td>\n",
       "      <td>Fácil</td>\n",
       "      <td>Sí</td>\n",
       "      <td>Tarde</td>\n",
       "      <td>Lectura/Escritura</td>\n",
       "      <td>84.4</td>\n",
       "      <td>1</td>\n",
       "    </tr>\n",
       "    <tr>\n",
       "      <th>1</th>\n",
       "      <td>80.825707</td>\n",
       "      <td>83.449655</td>\n",
       "      <td>4.616844</td>\n",
       "      <td>18</td>\n",
       "      <td>Difícil</td>\n",
       "      <td>No</td>\n",
       "      <td>Tarde</td>\n",
       "      <td>NaN</td>\n",
       "      <td>72.0</td>\n",
       "      <td>1</td>\n",
       "    </tr>\n",
       "    <tr>\n",
       "      <th>2</th>\n",
       "      <td>90.383694</td>\n",
       "      <td>74.623607</td>\n",
       "      <td>7.755246</td>\n",
       "      <td>25</td>\n",
       "      <td>Fácil</td>\n",
       "      <td>No</td>\n",
       "      <td>Mañana</td>\n",
       "      <td>Lectura/Escritura</td>\n",
       "      <td>80.0</td>\n",
       "      <td>1</td>\n",
       "    </tr>\n",
       "    <tr>\n",
       "      <th>3</th>\n",
       "      <td>81.878257</td>\n",
       "      <td>82.849841</td>\n",
       "      <td>8.592826</td>\n",
       "      <td>23</td>\n",
       "      <td>Fácil</td>\n",
       "      <td>No</td>\n",
       "      <td>NaN</td>\n",
       "      <td>Visual</td>\n",
       "      <td>78.2</td>\n",
       "      <td>1</td>\n",
       "    </tr>\n",
       "    <tr>\n",
       "      <th>4</th>\n",
       "      <td>66.254179</td>\n",
       "      <td>54.539935</td>\n",
       "      <td>6.671840</td>\n",
       "      <td>21</td>\n",
       "      <td>Medio</td>\n",
       "      <td>No</td>\n",
       "      <td>NaN</td>\n",
       "      <td>Auditivo</td>\n",
       "      <td>66.0</td>\n",
       "      <td>1</td>\n",
       "    </tr>\n",
       "  </tbody>\n",
       "</table>\n",
       "</div>"
      ],
      "text/plain": [
       "   nota_anterior  tasa_asistencia  horas_sueno  edad nivel_dificultad  \\\n",
       "0      48.830601        86.640182     6.675694    25            Fácil   \n",
       "1      80.825707        83.449655     4.616844    18          Difícil   \n",
       "2      90.383694        74.623607     7.755246    25            Fácil   \n",
       "3      81.878257        82.849841     8.592826    23            Fácil   \n",
       "4      66.254179        54.539935     6.671840    21            Medio   \n",
       "\n",
       "  tiene_tutor horario_estudio_preferido estilo_aprendizaje  nota_final  \\\n",
       "0          Sí                     Tarde  Lectura/Escritura        84.4   \n",
       "1          No                     Tarde                NaN        72.0   \n",
       "2          No                    Mañana  Lectura/Escritura        80.0   \n",
       "3          No                       NaN             Visual        78.2   \n",
       "4          No                       NaN           Auditivo        66.0   \n",
       "\n",
       "   aprobado  \n",
       "0         1  \n",
       "1         1  \n",
       "2         1  \n",
       "3         1  \n",
       "4         1  "
      ]
     },
     "execution_count": 2,
     "metadata": {},
     "output_type": "execute_result"
    }
   ],
   "source": [
    "df = pd.read_csv('../data/dataset_estudiantes_EDA.csv', index_col=0)\n",
    "\n",
    "df.head()"
   ]
  },
  {
   "cell_type": "markdown",
   "metadata": {},
   "source": [
    "## Gestión de nulos"
   ]
  },
  {
   "cell_type": "code",
   "execution_count": 3,
   "metadata": {},
   "outputs": [
    {
     "data": {
      "application/vnd.microsoft.datawrangler.viewer.v0+json": {
       "columns": [
        {
         "name": "index",
         "rawType": "object",
         "type": "string"
        },
        {
         "name": "0",
         "rawType": "int64",
         "type": "integer"
        }
       ],
       "ref": "cfbb4d28-39a7-4cf3-881d-4de5b45a079a",
       "rows": [
        [
         "horas_sueno",
         "150"
        ],
        [
         "horario_estudio_preferido",
         "100"
        ],
        [
         "estilo_aprendizaje",
         "50"
        ]
       ],
       "shape": {
        "columns": 1,
        "rows": 3
       }
      },
      "text/plain": [
       "horas_sueno                  150\n",
       "horario_estudio_preferido    100\n",
       "estilo_aprendizaje            50\n",
       "dtype: int64"
      ]
     },
     "execution_count": 3,
     "metadata": {},
     "output_type": "execute_result"
    }
   ],
   "source": [
    "# Identificar todas las columnas nueméricas del DataFrame\n",
    "num_cols = df.select_dtypes(include='number').columns\n",
    "\n",
    "# Identificación de valores nulos en el DataFrame\n",
    "cantidad_nulos = df.isna().sum()  # Suma valores nulos por columna\n",
    "cantidad_nulos = cantidad_nulos[cantidad_nulos != 0]  # Filtra solo columnas con valores nulos\n",
    "\n",
    "cantidad_nulos  # Muestra el resultado"
   ]
  },
  {
   "cell_type": "code",
   "execution_count": 4,
   "metadata": {},
   "outputs": [
    {
     "data": {
      "application/vnd.microsoft.datawrangler.viewer.v0+json": {
       "columns": [
        {
         "name": "index",
         "rawType": "object",
         "type": "string"
        },
        {
         "name": "0",
         "rawType": "int64",
         "type": "integer"
        }
       ],
       "ref": "77c63f26-1514-42e9-abd2-f8c470f7d93a",
       "rows": [
        [
         "horario_estudio_preferido",
         "100"
        ],
        [
         "estilo_aprendizaje",
         "50"
        ]
       ],
       "shape": {
        "columns": 1,
        "rows": 2
       }
      },
      "text/plain": [
       "horario_estudio_preferido    100\n",
       "estilo_aprendizaje            50\n",
       "dtype: int64"
      ]
     },
     "execution_count": 4,
     "metadata": {},
     "output_type": "execute_result"
    }
   ],
   "source": [
    "# # Análisis de valores únicos en columnas categóricas con valores nulos\n",
    "# for col in cantidad_nulos.index.to_list():\n",
    "#     if col in df.select_dtypes(include='object'):\n",
    "#         display(df[col].value_counts())\n",
    "# Análisis de valores únicos en columnas categóricas con valores nulos\n",
    "\n",
    "# Identificar todas las columnas categóricas\n",
    "cat_cols = df.select_dtypes(include='object').columns\n",
    "\n",
    "# Filtrar solo las categóricas que tienen nulos\n",
    "cat_nulls = [col for col in cat_cols if df[col].isna().sum() > 0]\n",
    "\n",
    "# Crear variables indicadoras para cada una\n",
    "for col in cat_nulls:\n",
    "    df[f\"{col}_missing\"] = df[col].isna().astype(int)\n",
    "# mostrar las columnas que tienen valores nulos\n",
    "df[cat_nulls].isna().sum()"
   ]
  },
  {
   "cell_type": "markdown",
   "metadata": {},
   "source": [
    "## Imputación de valores nulos\n",
    "\n",
    "- **Variables categóricas**  \n",
    "  Se sustituyen los valores faltantes por la categoría genérica **`\"Unknown\"`**, asegurando que ninguna etiqueta válida se vea desplazada y permitiendo identificar explícitamente la ausencia de dato.\n",
    "\n",
    "- **Variables numéricas**  \n",
    "  Se imputan los nulos con la **mediana** de cada columna, una medida robusta frente a valores atípicos que preserva la distribución original de los datos.\n",
    "\n",
    "> Esta estrategia de imputación mantiene la integridad del dataset y aplica un tratamiento adaptado al tipo de variable, sin necesidad de eliminar filas con información parcial.  "
   ]
  },
  {
   "cell_type": "code",
   "execution_count": 5,
   "metadata": {},
   "outputs": [],
   "source": [
    "# Valor desconocido\n",
    "val = 'Unknown'\n",
    "\n",
    "# Imputación de valores categóricos con un valor desconocido\n",
    "for col in cat_cols:\n",
    "    # Reemplazar los valores nulos por el valor desconocido\n",
    "    df[col] = df[col].fillna(val)\n",
    "    \n",
    "\n",
    "# Imputación de valores numéricos con la mediana\n",
    "for col in num_cols:\n",
    "    # Reemplazar los valores nulos por la mediana de la columna\n",
    "    df[col] = df[col].fillna(df[col].median())\n"
   ]
  },
  {
   "cell_type": "code",
   "execution_count": 6,
   "metadata": {},
   "outputs": [
    {
     "data": {
      "text/plain": [
       "np.int64(0)"
      ]
     },
     "execution_count": 6,
     "metadata": {},
     "output_type": "execute_result"
    }
   ],
   "source": [
    "# Comprobación de nulos\n",
    "df.isna().sum().sum()"
   ]
  },
  {
   "cell_type": "markdown",
   "metadata": {},
   "source": [
    "## Gestión outliers"
   ]
  },
  {
   "cell_type": "markdown",
   "metadata": {},
   "source": [
    "### Identificación de outliers mediante boxplot"
   ]
  },
  {
   "cell_type": "code",
   "execution_count": 7,
   "metadata": {},
   "outputs": [
    {
     "name": "stderr",
     "output_type": "stream",
     "text": [
      "/var/folders/s8/l3j5zms14s71b3h4v6d7qkl00000gn/T/ipykernel_28385/1336993300.py:22: FutureWarning: \n",
      "\n",
      "Passing `palette` without assigning `hue` is deprecated and will be removed in v0.14.0. Assign the `y` variable to `hue` and set `legend=False` for the same effect.\n",
      "\n",
      "  sns.boxplot(\n",
      "/var/folders/s8/l3j5zms14s71b3h4v6d7qkl00000gn/T/ipykernel_28385/1336993300.py:22: FutureWarning: \n",
      "\n",
      "Passing `palette` without assigning `hue` is deprecated and will be removed in v0.14.0. Assign the `y` variable to `hue` and set `legend=False` for the same effect.\n",
      "\n",
      "  sns.boxplot(\n",
      "/var/folders/s8/l3j5zms14s71b3h4v6d7qkl00000gn/T/ipykernel_28385/1336993300.py:22: FutureWarning: \n",
      "\n",
      "Passing `palette` without assigning `hue` is deprecated and will be removed in v0.14.0. Assign the `y` variable to `hue` and set `legend=False` for the same effect.\n",
      "\n",
      "  sns.boxplot(\n",
      "/var/folders/s8/l3j5zms14s71b3h4v6d7qkl00000gn/T/ipykernel_28385/1336993300.py:22: FutureWarning: \n",
      "\n",
      "Passing `palette` without assigning `hue` is deprecated and will be removed in v0.14.0. Assign the `y` variable to `hue` and set `legend=False` for the same effect.\n",
      "\n",
      "  sns.boxplot(\n",
      "/var/folders/s8/l3j5zms14s71b3h4v6d7qkl00000gn/T/ipykernel_28385/1336993300.py:22: FutureWarning: \n",
      "\n",
      "Passing `palette` without assigning `hue` is deprecated and will be removed in v0.14.0. Assign the `y` variable to `hue` and set `legend=False` for the same effect.\n",
      "\n",
      "  sns.boxplot(\n",
      "/var/folders/s8/l3j5zms14s71b3h4v6d7qkl00000gn/T/ipykernel_28385/1336993300.py:22: FutureWarning: \n",
      "\n",
      "Passing `palette` without assigning `hue` is deprecated and will be removed in v0.14.0. Assign the `y` variable to `hue` and set `legend=False` for the same effect.\n",
      "\n",
      "  sns.boxplot(\n",
      "/var/folders/s8/l3j5zms14s71b3h4v6d7qkl00000gn/T/ipykernel_28385/1336993300.py:22: FutureWarning: \n",
      "\n",
      "Passing `palette` without assigning `hue` is deprecated and will be removed in v0.14.0. Assign the `y` variable to `hue` and set `legend=False` for the same effect.\n",
      "\n",
      "  sns.boxplot(\n",
      "/var/folders/s8/l3j5zms14s71b3h4v6d7qkl00000gn/T/ipykernel_28385/1336993300.py:22: FutureWarning: \n",
      "\n",
      "Passing `palette` without assigning `hue` is deprecated and will be removed in v0.14.0. Assign the `y` variable to `hue` and set `legend=False` for the same effect.\n",
      "\n",
      "  sns.boxplot(\n"
     ]
    },
    {
     "data": {
      "image/png": "[encoded data removed]",
      "text/plain": [
       "<Figure size 1000x600 with 8 Axes>"
      ]
     },
     "metadata": {},
     "output_type": "display_data"
    }
   ],
   "source": [
    "# Visualización de outliers en variables numéricas mediante diagramas de caja\n",
    "\n",
    "# Seleccionar solo columnas numéricas del DataFrame\n",
    "df_num = df.select_dtypes(include=np.number)\n",
    "cols_num = df_num.columns\n",
    "\n",
    "# Calcular el número de gráficos y filas necesarias\n",
    "n_plots = len(cols_num)\n",
    "num_rows = math.ceil(n_plots / 2)  # Se distribuyen en 2 columnas\n",
    "\n",
    "# Ajustar dinámicamente el tamaño de la figura\n",
    "width = 5 * 2\n",
    "height = 1.5 * num_rows\n",
    "size = (width, height)\n",
    "\n",
    "# Crear la estructura de subplots\n",
    "fig, axes = plt.subplots(nrows=num_rows, ncols=2, figsize=size)\n",
    "axes = axes.flat  # Convertir matriz de ejes a lista plana\n",
    "\n",
    "# Crear un boxplot para cada variable numérica\n",
    "for i, col in enumerate(cols_num):\n",
    "   sns.boxplot(\n",
    "       x=col,\n",
    "       data=df_num,\n",
    "       palette=\"viridis\",\n",
    "       ax=axes[i]\n",
    "   )\n",
    "\n",
    "   axes[i].set_title(f'{col} outliers')\n",
    "   axes[i].set_xlabel('')  # Eliminar etiqueta del eje x para mayor claridad\n",
    "\n",
    "# Eliminar el último gráfico si sobra un espacio vacío\n",
    "if n_plots % 2 != 0:\n",
    "   fig.delaxes(axes[-1])\n",
    "\n",
    "# Ajustar el layout y mostrar la figura\n",
    "plt.tight_layout()\n",
    "plt.show()\n"
   ]
  },
  {
   "cell_type": "markdown",
   "metadata": {},
   "source": [
    "### Detección de outliers mediante el método IQR"
   ]
  },
  {
   "cell_type": "code",
   "execution_count": 8,
   "metadata": {},
   "outputs": [
    {
     "name": "stdout",
     "output_type": "stream",
     "text": [
      "Número de outliers por variable:\n",
      "                                   n_outliers\n",
      "nota_anterior                               0\n",
      "tasa_asistencia                             4\n",
      "horas_sueno                                 0\n",
      "edad                                        0\n",
      "nota_final                                  5\n",
      "aprobado                                  102\n",
      "horario_estudio_preferido_missing         100\n",
      "estilo_aprendizaje_missing                 50\n",
      "\n",
      "Ejemplos de outliers en 'tasa_asistencia':\n",
      "     tasa_asistencia\n",
      "603        20.000000\n",
      "744        20.050934\n",
      "\n",
      "Ejemplos de outliers en 'nota_final':\n",
      "     nota_final\n",
      "579        30.0\n",
      "323        40.0\n",
      "822        44.9\n",
      "606        99.2\n",
      "927       100.0\n",
      "\n",
      "Ejemplos de outliers en 'aprobado':\n",
      "    aprobado\n",
      "11         0\n",
      "\n",
      "Ejemplos de outliers en 'horario_estudio_preferido_missing':\n",
      "   horario_estudio_preferido_missing\n",
      "3                                  1\n",
      "\n",
      "Ejemplos de outliers en 'estilo_aprendizaje_missing':\n",
      "   estilo_aprendizaje_missing\n",
      "1                           1\n"
     ]
    }
   ],
   "source": [
    "# Diccionario para almacenar los outliers detectados en cada columna\n",
    "outliers_dict_iqr = {}\n",
    "\n",
    "# Iterar sobre cada columna numérica\n",
    "for col in df_num.columns:\n",
    "    # Calcular los cuartiles Q1 y Q3\n",
    "    Q1 = df_num[col].quantile(0.25)\n",
    "    Q3 = df_num[col].quantile(0.75)\n",
    "    IQR = Q3 - Q1  # Rango intercuartil\n",
    "\n",
    "    # Definir límites para detectar outliers (método de la valla)\n",
    "    lower_bound = Q1 - 1.5 * IQR\n",
    "    upper_bound = Q3 + 1.5 * IQR\n",
    "\n",
    "    # Filtrar outliers en la columna actual\n",
    "    outliers = df_num[(df_num[col] < lower_bound) | (df_num[col] > upper_bound)]\n",
    "    \n",
    "    # Almacenar los outliers en el diccionario\n",
    "    outliers_dict_iqr[col] = outliers[col]\n",
    "\n",
    "# 1) Resumen: número de outliers por variable\n",
    "outlier_counts = {col: series.shape[0] for col, series in outliers_dict_iqr.items()}\n",
    "outlier_summary = pd.DataFrame.from_dict(outlier_counts, orient='index', columns=['n_outliers'])\n",
    "print(\"Número de outliers por variable:\")\n",
    "print(outlier_summary)\n",
    "\n",
    "# 2) Mostrar ejemplos de outliers (hasta 5 por variable)\n",
    "for col, series in outliers_dict_iqr.items():\n",
    "    if not series.empty:\n",
    "        print(f\"\\nEjemplos de outliers en '{col}':\")\n",
    "        print(series.drop_duplicates().head(5).sort_values().to_frame())\n"
   ]
  },
  {
   "cell_type": "code",
   "execution_count": 9,
   "metadata": {},
   "outputs": [
    {
     "data": {
      "application/vnd.microsoft.datawrangler.viewer.v0+json": {
       "columns": [
        {
         "name": "index",
         "rawType": "int64",
         "type": "integer"
        },
        {
         "name": "horario_estudio_preferido_missing",
         "rawType": "int64",
         "type": "integer"
        }
       ],
       "ref": "036764b1-d9ac-4004-9af1-32aff8efda87",
       "rows": [
        [
         "3",
         "1"
        ],
        [
         "4",
         "1"
        ],
        [
         "10",
         "1"
        ],
        [
         "21",
         "1"
        ],
        [
         "28",
         "1"
        ],
        [
         "36",
         "1"
        ],
        [
         "42",
         "1"
        ],
        [
         "46",
         "1"
        ],
        [
         "52",
         "1"
        ],
        [
         "53",
         "1"
        ],
        [
         "60",
         "1"
        ],
        [
         "68",
         "1"
        ],
        [
         "73",
         "1"
        ],
        [
         "83",
         "1"
        ],
        [
         "89",
         "1"
        ],
        [
         "93",
         "1"
        ],
        [
         "100",
         "1"
        ],
        [
         "125",
         "1"
        ],
        [
         "126",
         "1"
        ],
        [
         "131",
         "1"
        ],
        [
         "177",
         "1"
        ],
        [
         "182",
         "1"
        ],
        [
         "192",
         "1"
        ],
        [
         "207",
         "1"
        ],
        [
         "213",
         "1"
        ],
        [
         "215",
         "1"
        ],
        [
         "223",
         "1"
        ],
        [
         "226",
         "1"
        ],
        [
         "239",
         "1"
        ],
        [
         "251",
         "1"
        ],
        [
         "269",
         "1"
        ],
        [
         "280",
         "1"
        ],
        [
         "283",
         "1"
        ],
        [
         "312",
         "1"
        ],
        [
         "325",
         "1"
        ],
        [
         "335",
         "1"
        ],
        [
         "376",
         "1"
        ],
        [
         "384",
         "1"
        ],
        [
         "388",
         "1"
        ],
        [
         "401",
         "1"
        ],
        [
         "418",
         "1"
        ],
        [
         "438",
         "1"
        ],
        [
         "439",
         "1"
        ],
        [
         "442",
         "1"
        ],
        [
         "448",
         "1"
        ],
        [
         "449",
         "1"
        ],
        [
         "459",
         "1"
        ],
        [
         "462",
         "1"
        ],
        [
         "467",
         "1"
        ],
        [
         "471",
         "1"
        ]
       ],
       "shape": {
        "columns": 1,
        "rows": 100
       }
      },
      "text/plain": [
       "3      1\n",
       "4      1\n",
       "10     1\n",
       "21     1\n",
       "28     1\n",
       "      ..\n",
       "936    1\n",
       "957    1\n",
       "963    1\n",
       "974    1\n",
       "994    1\n",
       "Name: horario_estudio_preferido_missing, Length: 100, dtype: int64"
      ]
     },
     "execution_count": 9,
     "metadata": {},
     "output_type": "execute_result"
    }
   ],
   "source": [
    "outliers_dict_iqr['horario_estudio_preferido_missing']"
   ]
  },
  {
   "cell_type": "code",
   "execution_count": 10,
   "metadata": {},
   "outputs": [
    {
     "data": {
      "application/vnd.microsoft.datawrangler.viewer.v0+json": {
       "columns": [
        {
         "name": "index",
         "rawType": "int64",
         "type": "integer"
        },
        {
         "name": "aprobado",
         "rawType": "int64",
         "type": "integer"
        }
       ],
       "ref": "8cf241a5-a4c7-4e48-abab-d0b69eb8e725",
       "rows": [
        [
         "11",
         "0"
        ],
        [
         "13",
         "0"
        ],
        [
         "24",
         "0"
        ],
        [
         "25",
         "0"
        ],
        [
         "44",
         "0"
        ],
        [
         "45",
         "0"
        ],
        [
         "84",
         "0"
        ],
        [
         "92",
         "0"
        ],
        [
         "102",
         "0"
        ],
        [
         "106",
         "0"
        ],
        [
         "107",
         "0"
        ],
        [
         "117",
         "0"
        ],
        [
         "130",
         "0"
        ],
        [
         "137",
         "0"
        ],
        [
         "141",
         "0"
        ],
        [
         "143",
         "0"
        ],
        [
         "151",
         "0"
        ],
        [
         "165",
         "0"
        ],
        [
         "175",
         "0"
        ],
        [
         "176",
         "0"
        ],
        [
         "181",
         "0"
        ],
        [
         "184",
         "0"
        ],
        [
         "191",
         "0"
        ],
        [
         "192",
         "0"
        ],
        [
         "202",
         "0"
        ],
        [
         "233",
         "0"
        ],
        [
         "243",
         "0"
        ],
        [
         "299",
         "0"
        ],
        [
         "305",
         "0"
        ],
        [
         "315",
         "0"
        ],
        [
         "317",
         "0"
        ],
        [
         "323",
         "0"
        ],
        [
         "324",
         "0"
        ],
        [
         "345",
         "0"
        ],
        [
         "366",
         "0"
        ],
        [
         "375",
         "0"
        ],
        [
         "391",
         "0"
        ],
        [
         "407",
         "0"
        ],
        [
         "409",
         "0"
        ],
        [
         "435",
         "0"
        ],
        [
         "457",
         "0"
        ],
        [
         "458",
         "0"
        ],
        [
         "460",
         "0"
        ],
        [
         "461",
         "0"
        ],
        [
         "473",
         "0"
        ],
        [
         "482",
         "0"
        ],
        [
         "491",
         "0"
        ],
        [
         "503",
         "0"
        ],
        [
         "522",
         "0"
        ],
        [
         "523",
         "0"
        ]
       ],
       "shape": {
        "columns": 1,
        "rows": 102
       }
      },
      "text/plain": [
       "11     0\n",
       "13     0\n",
       "24     0\n",
       "25     0\n",
       "44     0\n",
       "      ..\n",
       "971    0\n",
       "974    0\n",
       "984    0\n",
       "988    0\n",
       "993    0\n",
       "Name: aprobado, Length: 102, dtype: int64"
      ]
     },
     "execution_count": 10,
     "metadata": {},
     "output_type": "execute_result"
    }
   ],
   "source": [
    "outliers_dict_iqr['aprobado']"
   ]
  },
  {
   "cell_type": "markdown",
   "metadata": {},
   "source": [
    "### Detección de outliers mediante el método Z-score"
   ]
  },
  {
   "cell_type": "code",
   "execution_count": 11,
   "metadata": {},
   "outputs": [],
   "source": [
    "# Diccionario para almacenar los outliers detectados en cada columna\n",
    "outliers_dict_z = {}\n",
    "\n",
    "for col in df_num.columns:\n",
    "\n",
    "    # Filtrar los outliers usando |Z| > 3\n",
    "    outliers = df_num[np.abs(zscore(df_num[col])) > 3]\n",
    "\n",
    "    # Almacenar los outliers en el diccionario\n",
    "    outliers_dict_z[col] = outliers\n",
    "\n",
    "outliers_df = pd.concat(outliers_dict_z.values(), keys=outliers_dict_z.keys())\n"
   ]
  },
  {
   "cell_type": "code",
   "execution_count": 12,
   "metadata": {},
   "outputs": [
    {
     "name": "stdout",
     "output_type": "stream",
     "text": [
      "Número de outliers por variable (Z-score):\n",
      "                                   n_outliers\n",
      "nota_anterior                               0\n",
      "tasa_asistencia                             0\n",
      "horas_sueno                                 0\n",
      "edad                                        0\n",
      "nota_final                                  2\n",
      "aprobado                                    0\n",
      "horario_estudio_preferido_missing           0\n",
      "estilo_aprendizaje_missing                 50\n",
      "Valores nulos tras imputación: 0\n"
     ]
    },
    {
     "data": {
      "image/png": "[encoded data removed]",
      "text/plain": [
       "<Figure size 1000x400 with 1 Axes>"
      ]
     },
     "metadata": {},
     "output_type": "display_data"
    },
    {
     "data": {
      "image/png": "[encoded data removed]",
      "text/plain": [
       "<Figure size 1000x400 with 1 Axes>"
      ]
     },
     "metadata": {},
     "output_type": "display_data"
    },
    {
     "data": {
      "image/png": "[encoded data removed]",
      "text/plain": [
       "<Figure size 1000x400 with 1 Axes>"
      ]
     },
     "metadata": {},
     "output_type": "display_data"
    },
    {
     "data": {
      "image/png": "[encoded data removed]",
      "text/plain": [
       "<Figure size 1000x400 with 1 Axes>"
      ]
     },
     "metadata": {},
     "output_type": "display_data"
    },
    {
     "data": {
      "image/png": "[encoded data removed]",
      "text/plain": [
       "<Figure size 1000x400 with 1 Axes>"
      ]
     },
     "metadata": {},
     "output_type": "display_data"
    },
    {
     "data": {
      "image/png": "[encoded data removed]",
      "text/plain": [
       "<Figure size 1000x400 with 1 Axes>"
      ]
     },
     "metadata": {},
     "output_type": "display_data"
    },
    {
     "data": {
      "image/png": "[encoded data removed]",
      "text/plain": [
       "<Figure size 1000x400 with 1 Axes>"
      ]
     },
     "metadata": {},
     "output_type": "display_data"
    },
    {
     "data": {
      "image/png": "[encoded data removed]",
      "text/plain": [
       "<Figure size 1000x400 with 1 Axes>"
      ]
     },
     "metadata": {},
     "output_type": "display_data"
    }
   ],
   "source": [
    "# Resumen: número de outliers por variable usando Z-score\n",
    "outlier_counts_z = {col: series.shape[0] for col, series in outliers_dict_z.items()}\n",
    "outlier_summary_z = pd.DataFrame.from_dict(outlier_counts_z, orient='index', columns=['n_outliers'])\n",
    "print(\"Número de outliers por variable (Z-score):\")\n",
    "print(outlier_summary_z)\n",
    "\n",
    "\n",
    "\n",
    "# Imputación de outliers usando el método de la mediana\n",
    "for col in df_num.columns:\n",
    "    # Calcular cuartiles y mediana\n",
    "    q1 = df_num[col].quantile(0.25)\n",
    "    q3 = df_num[col].quantile(0.75)\n",
    "    iqr = q3 - q1\n",
    "    lower, upper = q1 - 1.5 * iqr, q3 + 1.5 * iqr\n",
    "    median_value = df_num[col].median()\n",
    "    \n",
    "    # Reemplazar los outliers por la mediana\n",
    "    df_num[col] = np.where(\n",
    "        (df_num[col] < lower) | (df_num[col] > upper),\n",
    "        median_value,\n",
    "        df_num[col]\n",
    "    )\n",
    "\n",
    "# Comprobar si se han eliminado los outliers\n",
    "print(\"Valores nulos tras imputación:\", df_num.isna().sum().sum())\n",
    "\n",
    "# Visualización de la distribución de las variables numéricas después de la imputación\n",
    "for col in df_num.columns:\n",
    "    plt.figure(figsize=(10, 4))\n",
    "    sns.histplot(df_num[col], bins=30, kde=True)\n",
    "    plt.title(f'Distribución de {col} después de la imputación')\n",
    "    plt.xlabel(col)\n",
    "    plt.ylabel('Frecuencia')\n",
    "    plt.show()\n",
    "\n",
    "\n"
   ]
  },
  {
   "cell_type": "markdown",
   "metadata": {},
   "source": [
    "---"
   ]
  },
  {
   "cell_type": "markdown",
   "metadata": {},
   "source": [
    "## Para regresión\n",
    "\n",
    "La variable objetivo es `nota_final`"
   ]
  },
  {
   "cell_type": "code",
   "execution_count": 13,
   "metadata": {},
   "outputs": [],
   "source": [
    "# Hacemos una copia del DataFrame\n",
    "df_reg = df.copy()\n",
    "\n",
    "# Seleccionamos la variable objetivo\n",
    "tv = 'nota_final'"
   ]
  },
  {
   "cell_type": "markdown",
   "metadata": {},
   "source": [
    "### Codificación"
   ]
  },
  {
   "cell_type": "code",
   "execution_count": 14,
   "metadata": {},
   "outputs": [],
   "source": [
    "cat_cols = df_reg.select_dtypes(include='O').columns.to_list()"
   ]
  },
  {
   "cell_type": "code",
   "execution_count": 15,
   "metadata": {},
   "outputs": [
    {
     "data": {
      "text/plain": [
       "['nivel_dificultad',\n",
       " 'tiene_tutor',\n",
       " 'horario_estudio_preferido',\n",
       " 'estilo_aprendizaje']"
      ]
     },
     "execution_count": 15,
     "metadata": {},
     "output_type": "execute_result"
    }
   ],
   "source": [
    "cat_cols"
   ]
  },
  {
   "cell_type": "markdown",
   "metadata": {},
   "source": [
    "Selección de los métodos de codificación"
   ]
  },
  {
   "cell_type": "code",
   "execution_count": 16,
   "metadata": {},
   "outputs": [],
   "source": [
    "onehot_cols = ['tiene_tutor'] # la que se le aplicará OneHotEncoder\n",
    "target_cols = [x for x in cat_cols if x not in onehot_cols] # las que no estan en onehot_cols 'nivel_dificultad','horario_estudio_preferido','estilo_aprendizaje'"
   ]
  },
  {
   "cell_type": "markdown",
   "metadata": {},
   "source": [
    "`OneHotEncoding`"
   ]
  },
  {
   "cell_type": "code",
   "execution_count": 17,
   "metadata": {},
   "outputs": [],
   "source": [
    "# Codificación OneHot\n",
    "onehot_encoder = OneHotEncoder(drop=None, sparse_output=False, handle_unknown='ignore')\n",
    "onehot_encoded = onehot_encoder.fit_transform(df_reg[onehot_cols])\n",
    "onehot_feature_names = onehot_encoder.get_feature_names_out()\n",
    "df_onehot = pd.DataFrame(onehot_encoded, columns=onehot_feature_names, index=df_reg.index)\n",
    "\n",
    "# Concatenar con el DataFrame original y eliminar las columnas originales\n",
    "df_reg = pd.concat([df_reg.drop(columns=onehot_cols), df_onehot], axis=1)"
   ]
  },
  {
   "cell_type": "markdown",
   "metadata": {},
   "source": [
    "`TargetEncoding`"
   ]
  },
  {
   "cell_type": "code",
   "execution_count": 18,
   "metadata": {},
   "outputs": [],
   "source": [
    "# Codificación Target Encoding para algunas variables categóricas con category_encoders\n",
    "# Columnas: 'nivel_dificultad','horario_estudio_preferido','estilo_aprendizaje'\n",
    "target_encoder = TargetEncoder(cols=target_cols)\n",
    "df_reg[target_cols] = target_encoder.fit_transform(df_reg[target_cols], df_reg[tv])"
   ]
  },
  {
   "cell_type": "markdown",
   "metadata": {},
   "source": [
    "### Escalado"
   ]
  },
  {
   "cell_type": "markdown",
   "metadata": {},
   "source": [
    "`MinMaxScaler`\n",
    "Se llevan las variables entre 1 y 0"
   ]
  },
  {
   "cell_type": "code",
   "execution_count": 19,
   "metadata": {},
   "outputs": [],
   "source": [
    "# scaler = MinMaxScaler()\n",
    "# df_scaler = df_reg.copy()\n",
    "# df_scaler[df_scaler.drop(columns=[tv]).columns] = scaler.fit_transform(df_scaler.drop(columns=[tv]))"
   ]
  },
  {
   "cell_type": "code",
   "execution_count": 20,
   "metadata": {},
   "outputs": [],
   "source": [
    "# df_scaler.head()\n",
    "# Guardar el DataFrame procesado"
   ]
  },
  {
   "cell_type": "markdown",
   "metadata": {},
   "source": [
    "### Guardamos el dataframe preprocesado"
   ]
  },
  {
   "cell_type": "code",
   "execution_count": 21,
   "metadata": {},
   "outputs": [],
   "source": [
    "df_reg.to_csv('../Data/df_regresion.csv') # se guarda el dataframe con codificación y sin escalar"
   ]
  },
  {
   "cell_type": "markdown",
   "metadata": {},
   "source": [
    "---"
   ]
  },
  {
   "cell_type": "markdown",
   "metadata": {},
   "source": [
    "## Para clasificación\n",
    "\n",
    "La variable objetivo es `Aprobado`"
   ]
  },
  {
   "cell_type": "code",
   "execution_count": 22,
   "metadata": {},
   "outputs": [],
   "source": [
    "# Carga del DataFrame original para clasificación\n",
    "df_clas = df.copy()\n",
    "\n",
    "# Seleccionamos la variable objetivo\n",
    "tv = 'aprobado'"
   ]
  },
  {
   "cell_type": "code",
   "execution_count": 23,
   "metadata": {},
   "outputs": [
    {
     "data": {
      "application/vnd.microsoft.datawrangler.viewer.v0+json": {
       "columns": [
        {
         "name": "index",
         "rawType": "int64",
         "type": "integer"
        },
        {
         "name": "nota_anterior",
         "rawType": "float64",
         "type": "float"
        },
        {
         "name": "tasa_asistencia",
         "rawType": "float64",
         "type": "float"
        },
        {
         "name": "horas_sueno",
         "rawType": "float64",
         "type": "float"
        },
        {
         "name": "edad",
         "rawType": "int64",
         "type": "integer"
        },
        {
         "name": "nivel_dificultad",
         "rawType": "object",
         "type": "string"
        },
        {
         "name": "tiene_tutor",
         "rawType": "object",
         "type": "string"
        },
        {
         "name": "horario_estudio_preferido",
         "rawType": "object",
         "type": "string"
        },
        {
         "name": "estilo_aprendizaje",
         "rawType": "object",
         "type": "string"
        },
        {
         "name": "nota_final",
         "rawType": "float64",
         "type": "float"
        },
        {
         "name": "aprobado",
         "rawType": "int64",
         "type": "integer"
        },
        {
         "name": "horario_estudio_preferido_missing",
         "rawType": "int64",
         "type": "integer"
        },
        {
         "name": "estilo_aprendizaje_missing",
         "rawType": "int64",
         "type": "integer"
        }
       ],
       "ref": "18580820-a3e2-41c6-8474-af4bf49d796b",
       "rows": [
        [
         "0",
         "48.830600953982184",
         "86.64018172631499",
         "6.675694179152657",
         "25",
         "Fácil",
         "Sí",
         "Tarde",
         "Lectura/Escritura",
         "84.4",
         "1",
         "0",
         "0"
        ],
        [
         "1",
         "80.82570664326124",
         "83.44965544904211",
         "4.616843562140823",
         "18",
         "Difícil",
         "No",
         "Tarde",
         "Unknown",
         "72.0",
         "1",
         "0",
         "1"
        ],
        [
         "2",
         "90.38369427718838",
         "74.62360717097394",
         "7.755246085587813",
         "25",
         "Fácil",
         "No",
         "Mañana",
         "Lectura/Escritura",
         "80.0",
         "1",
         "0",
         "0"
        ],
        [
         "3",
         "81.87825713706148",
         "82.84984071809973",
         "8.592826202315608",
         "23",
         "Fácil",
         "No",
         "Unknown",
         "Visual",
         "78.2",
         "1",
         "1",
         "0"
        ],
        [
         "4",
         "66.25417890677699",
         "54.53993487859529",
         "6.671840397082623",
         "21",
         "Medio",
         "No",
         "Unknown",
         "Auditivo",
         "66.0",
         "1",
         "1",
         "0"
        ],
        [
         "5",
         "73.08911810349704",
         "79.78760325343505",
         "8.50931577496801",
         "29",
         "Difícil",
         "No",
         "Mañana",
         "Visual",
         "68.0",
         "1",
         "0",
         "0"
        ],
        [
         "6",
         "91.0679966076932",
         "71.79979177431109",
         "4.589867396546137",
         "25",
         "Fácil",
         "Sí",
         "Mañana",
         "Visual",
         "75.5",
         "1",
         "0",
         "0"
        ],
        [
         "7",
         "96.97993865525088",
         "51.41196498065036",
         "7.02070110592484",
         "20",
         "Fácil",
         "Sí",
         "Noche",
         "Visual",
         "86.3",
         "1",
         "0",
         "0"
        ],
        [
         "8",
         "62.10374698643311",
         "60.824962869609415",
         "6.463756401920014",
         "21",
         "Medio",
         "No",
         "Mañana",
         "Visual",
         "84.8",
         "1",
         "0",
         "0"
        ],
        [
         "9",
         "71.82992642454397",
         "100.0",
         "7.516230488420608",
         "23",
         "Medio",
         "Sí",
         "Noche",
         "Visual",
         "68.8",
         "1",
         "0",
         "0"
        ],
        [
         "10",
         "61.580093589430106",
         "64.70153366482619",
         "7.02070110592484",
         "28",
         "Medio",
         "Sí",
         "Unknown",
         "Visual",
         "67.9",
         "1",
         "1",
         "0"
        ],
        [
         "11",
         "56.45049066566707",
         "64.00767417860592",
         "7.87747581402838",
         "24",
         "Difícil",
         "Sí",
         "Noche",
         "Visual",
         "54.9",
         "0",
         "0",
         "0"
        ],
        [
         "12",
         "87.69102626451223",
         "57.894263967058066",
         "7.02070110592484",
         "21",
         "Difícil",
         "No",
         "Tarde",
         "Lectura/Escritura",
         "82.4",
         "1",
         "0",
         "0"
        ],
        [
         "13",
         "49.89699301098871",
         "76.93505059100768",
         "7.02070110592484",
         "21",
         "Medio",
         "No",
         "Tarde",
         "Visual",
         "59.4",
         "0",
         "0",
         "0"
        ],
        [
         "14",
         "47.17712413911181",
         "69.22500197685939",
         "4.753005101791993",
         "24",
         "Medio",
         "No",
         "Tarde",
         "Kinestésico",
         "63.4",
         "1",
         "0",
         "0"
        ],
        [
         "15",
         "55.337701600869025",
         "58.816636512808834",
         "6.582547468651307",
         "23",
         "Medio",
         "No",
         "Tarde",
         "Visual",
         "73.2",
         "1",
         "0",
         "0"
        ],
        [
         "16",
         "77.85305520013475",
         "97.70568418369903",
         "6.144758640434626",
         "28",
         "Fácil",
         "No",
         "Tarde",
         "Lectura/Escritura",
         "86.9",
         "1",
         "0",
         "0"
        ],
        [
         "17",
         "83.26888963571251",
         "80.77499802314061",
         "5.781018881275454",
         "25",
         "Difícil",
         "Sí",
         "Mañana",
         "Lectura/Escritura",
         "77.8",
         "1",
         "0",
         "0"
        ],
        [
         "18",
         "72.09565448322793",
         "57.382237608261406",
         "5.842825486705543",
         "18",
         "Medio",
         "No",
         "Noche",
         "Kinestésico",
         "73.0",
         "1",
         "0",
         "0"
        ],
        [
         "19",
         "86.26292736338812",
         "93.67819882522107",
         "6.986826859258609",
         "27",
         "Fácil",
         "No",
         "Tarde",
         "Kinestésico",
         "84.5",
         "1",
         "0",
         "0"
        ],
        [
         "20",
         "93.56929746365364",
         "81.56446836030806",
         "8.213752261539337",
         "28",
         "Medio",
         "Sí",
         "Tarde",
         "Visual",
         "90.7",
         "1",
         "0",
         "0"
        ],
        [
         "21",
         "65.23525609733359",
         "68.11692682105856",
         "4.157111057820685",
         "24",
         "Fácil",
         "No",
         "Unknown",
         "Lectura/Escritura",
         "63.9",
         "1",
         "1",
         "0"
        ],
        [
         "22",
         "68.01830464657932",
         "100.0",
         "7.564424115676936",
         "29",
         "Medio",
         "Sí",
         "Tarde",
         "Lectura/Escritura",
         "83.9",
         "1",
         "0",
         "0"
        ],
        [
         "23",
         "55.51869539631874",
         "58.18187298707373",
         "7.190578650131688",
         "24",
         "Medio",
         "Sí",
         "Noche",
         "Lectura/Escritura",
         "66.0",
         "1",
         "0",
         "0"
        ],
        [
         "24",
         "75.7656214866156",
         "86.0507374069795",
         "7.504266811351287",
         "28",
         "Medio",
         "No",
         "Tarde",
         "Kinestésico",
         "56.4",
         "0",
         "0",
         "0"
        ],
        [
         "25",
         "40.34585161412001",
         "45.494612771062805",
         "7.742456437699655",
         "24",
         "Difícil",
         "No",
         "Noche",
         "Unknown",
         "54.0",
         "0",
         "0",
         "1"
        ],
        [
         "26",
         "80.87459808416972",
         "75.0250913807025",
         "7.721259131000219",
         "24",
         "Fácil",
         "Sí",
         "Mañana",
         "Lectura/Escritura",
         "91.6",
         "1",
         "0",
         "0"
        ],
        [
         "27",
         "40.07543543758307",
         "57.00932278815627",
         "7.556352626933646",
         "27",
         "Medio",
         "No",
         "Noche",
         "Visual",
         "66.9",
         "1",
         "0",
         "0"
        ],
        [
         "28",
         "66.79545821753256",
         "44.40883627715726",
         "5.587450267391961",
         "27",
         "Medio",
         "Sí",
         "Unknown",
         "Auditivo",
         "75.2",
         "1",
         "1",
         "0"
        ],
        [
         "29",
         "53.87190237717341",
         "52.198461494092",
         "8.85497836227986",
         "25",
         "Medio",
         "Sí",
         "Mañana",
         "Visual",
         "67.4",
         "1",
         "0",
         "0"
        ],
        [
         "30",
         "65.70797596367623",
         "60.7603778951055",
         "6.503691142410371",
         "26",
         "Medio",
         "Sí",
         "Mañana",
         "Lectura/Escritura",
         "73.7",
         "1",
         "0",
         "0"
        ],
        [
         "31",
         "94.23918186771768",
         "80.20178850345093",
         "4.48872133613403",
         "26",
         "Medio",
         "Sí",
         "Tarde",
         "Visual",
         "70.5",
         "1",
         "0",
         "0"
        ],
        [
         "32",
         "93.06536874808076",
         "100.0",
         "5.922307005619732",
         "19",
         "Medio",
         "Sí",
         "Noche",
         "Visual",
         "74.7",
         "1",
         "0",
         "0"
        ],
        [
         "33",
         "68.88869088307922",
         "97.51552401460032",
         "5.245899003223461",
         "24",
         "Fácil",
         "No",
         "Tarde",
         "Auditivo",
         "72.0",
         "1",
         "0",
         "0"
        ],
        [
         "34",
         "76.50222949167683",
         "87.30049006410138",
         "8.496879488460701",
         "24",
         "Difícil",
         "Sí",
         "Tarde",
         "Kinestésico",
         "77.7",
         "1",
         "0",
         "0"
        ],
        [
         "35",
         "69.60476512912287",
         "90.90643287909356",
         "6.179949411406033",
         "21",
         "Medio",
         "No",
         "Mañana",
         "Auditivo",
         "64.9",
         "1",
         "0",
         "0"
        ],
        [
         "36",
         "55.45859938940737",
         "55.2877916626546",
         "7.02070110592484",
         "26",
         "Medio",
         "No",
         "Unknown",
         "Visual",
         "66.4",
         "1",
         "1",
         "0"
        ],
        [
         "37",
         "68.132149508754",
         "59.162323817251355",
         "7.02070110592484",
         "25",
         "Fácil",
         "No",
         "Tarde",
         "Visual",
         "66.5",
         "1",
         "0",
         "0"
        ],
        [
         "38",
         "88.63090858695253",
         "75.17564187655188",
         "5.941705027243913",
         "29",
         "Fácil",
         "Sí",
         "Noche",
         "Kinestésico",
         "97.5",
         "1",
         "0",
         "0"
        ],
        [
         "39",
         "62.27615024861963",
         "74.07128550458945",
         "8.04866213167484",
         "18",
         "Medio",
         "No",
         "Tarde",
         "Lectura/Escritura",
         "76.2",
         "1",
         "0",
         "0"
        ],
        [
         "40",
         "54.13772478425731",
         "90.09328538946208",
         "5.759953405242553",
         "19",
         "Difícil",
         "No",
         "Noche",
         "Kinestésico",
         "73.0",
         "1",
         "0",
         "0"
        ],
        [
         "41",
         "83.83495327625285",
         "98.58803501934965",
         "6.337351236834754",
         "19",
         "Medio",
         "Sí",
         "Tarde",
         "Auditivo",
         "71.5",
         "1",
         "0",
         "0"
        ],
        [
         "42",
         "58.92866728893208",
         "82.68749531548747",
         "4.980421533332697",
         "29",
         "Difícil",
         "Sí",
         "Unknown",
         "Lectura/Escritura",
         "64.8",
         "1",
         "1",
         "0"
        ],
        [
         "43",
         "65.15602011210086",
         "62.57802143931803",
         "7.8288053055234625",
         "29",
         "Medio",
         "No",
         "Tarde",
         "Unknown",
         "64.9",
         "1",
         "0",
         "1"
        ],
        [
         "44",
         "56.222534380523385",
         "58.038506929037375",
         "8.731922035243986",
         "28",
         "Medio",
         "No",
         "Tarde",
         "Auditivo",
         "59.3",
         "0",
         "0",
         "0"
        ],
        [
         "45",
         "65.27482414986059",
         "43.57427004846179",
         "7.02070110592484",
         "25",
         "Fácil",
         "No",
         "Noche",
         "Auditivo",
         "50.7",
         "0",
         "0",
         "0"
        ],
        [
         "46",
         "88.96099554303726",
         "82.04302793957865",
         "7.02070110592484",
         "18",
         "Difícil",
         "Sí",
         "Unknown",
         "Auditivo",
         "61.1",
         "1",
         "1",
         "0"
        ],
        [
         "47",
         "68.81319549762357",
         "74.27218954613586",
         "9.55835565075925",
         "21",
         "Fácil",
         "No",
         "Mañana",
         "Kinestésico",
         "61.3",
         "1",
         "0",
         "0"
        ],
        [
         "48",
         "68.9264279023357",
         "94.1490726825403",
         "7.240015616926668",
         "27",
         "Difícil",
         "No",
         "Mañana",
         "Auditivo",
         "78.1",
         "1",
         "0",
         "0"
        ],
        [
         "49",
         "56.107355135460814",
         "76.8846385047942",
         "7.904414640772361",
         "29",
         "Difícil",
         "Sí",
         "Mañana",
         "Visual",
         "70.8",
         "1",
         "0",
         "0"
        ]
       ],
       "shape": {
        "columns": 12,
        "rows": 1000
       }
      },
      "text/html": [
       "<div>\n",
       "<style scoped>\n",
       "    .dataframe tbody tr th:only-of-type {\n",
       "        vertical-align: middle;\n",
       "    }\n",
       "\n",
       "    .dataframe tbody tr th {\n",
       "        vertical-align: top;\n",
       "    }\n",
       "\n",
       "    .dataframe thead th {\n",
       "        text-align: right;\n",
       "    }\n",
       "</style>\n",
       "<table border=\"1\" class=\"dataframe\">\n",
       "  <thead>\n",
       "    <tr style=\"text-align: right;\">\n",
       "      <th></th>\n",
       "      <th>nota_anterior</th>\n",
       "      <th>tasa_asistencia</th>\n",
       "      <th>horas_sueno</th>\n",
       "      <th>edad</th>\n",
       "      <th>nivel_dificultad</th>\n",
       "      <th>tiene_tutor</th>\n",
       "      <th>horario_estudio_preferido</th>\n",
       "      <th>estilo_aprendizaje</th>\n",
       "      <th>nota_final</th>\n",
       "      <th>aprobado</th>\n",
       "      <th>horario_estudio_preferido_missing</th>\n",
       "      <th>estilo_aprendizaje_missing</th>\n",
       "    </tr>\n",
       "  </thead>\n",
       "  <tbody>\n",
       "    <tr>\n",
       "      <th>0</th>\n",
       "      <td>48.830601</td>\n",
       "      <td>86.640182</td>\n",
       "      <td>6.675694</td>\n",
       "      <td>25</td>\n",
       "      <td>Fácil</td>\n",
       "      <td>Sí</td>\n",
       "      <td>Tarde</td>\n",
       "      <td>Lectura/Escritura</td>\n",
       "      <td>84.4</td>\n",
       "      <td>1</td>\n",
       "      <td>0</td>\n",
       "      <td>0</td>\n",
       "    </tr>\n",
       "    <tr>\n",
       "      <th>1</th>\n",
       "      <td>80.825707</td>\n",
       "      <td>83.449655</td>\n",
       "      <td>4.616844</td>\n",
       "      <td>18</td>\n",
       "      <td>Difícil</td>\n",
       "      <td>No</td>\n",
       "      <td>Tarde</td>\n",
       "      <td>Unknown</td>\n",
       "      <td>72.0</td>\n",
       "      <td>1</td>\n",
       "      <td>0</td>\n",
       "      <td>1</td>\n",
       "    </tr>\n",
       "    <tr>\n",
       "      <th>2</th>\n",
       "      <td>90.383694</td>\n",
       "      <td>74.623607</td>\n",
       "      <td>7.755246</td>\n",
       "      <td>25</td>\n",
       "      <td>Fácil</td>\n",
       "      <td>No</td>\n",
       "      <td>Mañana</td>\n",
       "      <td>Lectura/Escritura</td>\n",
       "      <td>80.0</td>\n",
       "      <td>1</td>\n",
       "      <td>0</td>\n",
       "      <td>0</td>\n",
       "    </tr>\n",
       "    <tr>\n",
       "      <th>3</th>\n",
       "      <td>81.878257</td>\n",
       "      <td>82.849841</td>\n",
       "      <td>8.592826</td>\n",
       "      <td>23</td>\n",
       "      <td>Fácil</td>\n",
       "      <td>No</td>\n",
       "      <td>Unknown</td>\n",
       "      <td>Visual</td>\n",
       "      <td>78.2</td>\n",
       "      <td>1</td>\n",
       "      <td>1</td>\n",
       "      <td>0</td>\n",
       "    </tr>\n",
       "    <tr>\n",
       "      <th>4</th>\n",
       "      <td>66.254179</td>\n",
       "      <td>54.539935</td>\n",
       "      <td>6.671840</td>\n",
       "      <td>21</td>\n",
       "      <td>Medio</td>\n",
       "      <td>No</td>\n",
       "      <td>Unknown</td>\n",
       "      <td>Auditivo</td>\n",
       "      <td>66.0</td>\n",
       "      <td>1</td>\n",
       "      <td>1</td>\n",
       "      <td>0</td>\n",
       "    </tr>\n",
       "    <tr>\n",
       "      <th>...</th>\n",
       "      <td>...</td>\n",
       "      <td>...</td>\n",
       "      <td>...</td>\n",
       "      <td>...</td>\n",
       "      <td>...</td>\n",
       "      <td>...</td>\n",
       "      <td>...</td>\n",
       "      <td>...</td>\n",
       "      <td>...</td>\n",
       "      <td>...</td>\n",
       "      <td>...</td>\n",
       "      <td>...</td>\n",
       "    </tr>\n",
       "    <tr>\n",
       "      <th>995</th>\n",
       "      <td>79.453807</td>\n",
       "      <td>87.058862</td>\n",
       "      <td>5.581576</td>\n",
       "      <td>22</td>\n",
       "      <td>Medio</td>\n",
       "      <td>Sí</td>\n",
       "      <td>Noche</td>\n",
       "      <td>Lectura/Escritura</td>\n",
       "      <td>78.9</td>\n",
       "      <td>1</td>\n",
       "      <td>0</td>\n",
       "      <td>0</td>\n",
       "    </tr>\n",
       "    <tr>\n",
       "      <th>996</th>\n",
       "      <td>87.246126</td>\n",
       "      <td>90.160085</td>\n",
       "      <td>6.063783</td>\n",
       "      <td>24</td>\n",
       "      <td>Medio</td>\n",
       "      <td>Sí</td>\n",
       "      <td>Mañana</td>\n",
       "      <td>Auditivo</td>\n",
       "      <td>73.6</td>\n",
       "      <td>1</td>\n",
       "      <td>0</td>\n",
       "      <td>0</td>\n",
       "    </tr>\n",
       "    <tr>\n",
       "      <th>997</th>\n",
       "      <td>53.324469</td>\n",
       "      <td>61.525951</td>\n",
       "      <td>6.562950</td>\n",
       "      <td>29</td>\n",
       "      <td>Fácil</td>\n",
       "      <td>No</td>\n",
       "      <td>Noche</td>\n",
       "      <td>Lectura/Escritura</td>\n",
       "      <td>65.0</td>\n",
       "      <td>1</td>\n",
       "      <td>0</td>\n",
       "      <td>0</td>\n",
       "    </tr>\n",
       "    <tr>\n",
       "      <th>998</th>\n",
       "      <td>88.309605</td>\n",
       "      <td>96.326078</td>\n",
       "      <td>6.691088</td>\n",
       "      <td>21</td>\n",
       "      <td>Medio</td>\n",
       "      <td>Sí</td>\n",
       "      <td>Noche</td>\n",
       "      <td>Kinestésico</td>\n",
       "      <td>73.8</td>\n",
       "      <td>1</td>\n",
       "      <td>0</td>\n",
       "      <td>0</td>\n",
       "    </tr>\n",
       "    <tr>\n",
       "      <th>999</th>\n",
       "      <td>64.234379</td>\n",
       "      <td>100.000000</td>\n",
       "      <td>5.200351</td>\n",
       "      <td>22</td>\n",
       "      <td>Fácil</td>\n",
       "      <td>No</td>\n",
       "      <td>Noche</td>\n",
       "      <td>Visual</td>\n",
       "      <td>61.3</td>\n",
       "      <td>1</td>\n",
       "      <td>0</td>\n",
       "      <td>0</td>\n",
       "    </tr>\n",
       "  </tbody>\n",
       "</table>\n",
       "<p>1000 rows × 12 columns</p>\n",
       "</div>"
      ],
      "text/plain": [
       "     nota_anterior  tasa_asistencia  horas_sueno  edad nivel_dificultad  \\\n",
       "0        48.830601        86.640182     6.675694    25            Fácil   \n",
       "1        80.825707        83.449655     4.616844    18          Difícil   \n",
       "2        90.383694        74.623607     7.755246    25            Fácil   \n",
       "3        81.878257        82.849841     8.592826    23            Fácil   \n",
       "4        66.254179        54.539935     6.671840    21            Medio   \n",
       "..             ...              ...          ...   ...              ...   \n",
       "995      79.453807        87.058862     5.581576    22            Medio   \n",
       "996      87.246126        90.160085     6.063783    24            Medio   \n",
       "997      53.324469        61.525951     6.562950    29            Fácil   \n",
       "998      88.309605        96.326078     6.691088    21            Medio   \n",
       "999      64.234379       100.000000     5.200351    22            Fácil   \n",
       "\n",
       "    tiene_tutor horario_estudio_preferido estilo_aprendizaje  nota_final  \\\n",
       "0            Sí                     Tarde  Lectura/Escritura        84.4   \n",
       "1            No                     Tarde            Unknown        72.0   \n",
       "2            No                    Mañana  Lectura/Escritura        80.0   \n",
       "3            No                   Unknown             Visual        78.2   \n",
       "4            No                   Unknown           Auditivo        66.0   \n",
       "..          ...                       ...                ...         ...   \n",
       "995          Sí                     Noche  Lectura/Escritura        78.9   \n",
       "996          Sí                    Mañana           Auditivo        73.6   \n",
       "997          No                     Noche  Lectura/Escritura        65.0   \n",
       "998          Sí                     Noche        Kinestésico        73.8   \n",
       "999          No                     Noche             Visual        61.3   \n",
       "\n",
       "     aprobado  horario_estudio_preferido_missing  estilo_aprendizaje_missing  \n",
       "0           1                                  0                           0  \n",
       "1           1                                  0                           1  \n",
       "2           1                                  0                           0  \n",
       "3           1                                  1                           0  \n",
       "4           1                                  1                           0  \n",
       "..        ...                                ...                         ...  \n",
       "995         1                                  0                           0  \n",
       "996         1                                  0                           0  \n",
       "997         1                                  0                           0  \n",
       "998         1                                  0                           0  \n",
       "999         1                                  0                           0  \n",
       "\n",
       "[1000 rows x 12 columns]"
      ]
     },
     "execution_count": 23,
     "metadata": {},
     "output_type": "execute_result"
    }
   ],
   "source": [
    "df_clas"
   ]
  },
  {
   "cell_type": "markdown",
   "metadata": {},
   "source": [
    "### Codificación"
   ]
  },
  {
   "cell_type": "code",
   "execution_count": 24,
   "metadata": {},
   "outputs": [],
   "source": [
    "cat_cols = df_clas.select_dtypes(include='O').columns.to_list()"
   ]
  },
  {
   "cell_type": "markdown",
   "metadata": {},
   "source": [
    "Selección de los métodos de codificación"
   ]
  },
  {
   "cell_type": "code",
   "execution_count": 25,
   "metadata": {},
   "outputs": [
    {
     "data": {
      "text/plain": [
       "['nivel_dificultad',\n",
       " 'tiene_tutor',\n",
       " 'horario_estudio_preferido',\n",
       " 'estilo_aprendizaje']"
      ]
     },
     "execution_count": 25,
     "metadata": {},
     "output_type": "execute_result"
    }
   ],
   "source": [
    "cat_cols\n"
   ]
  },
  {
   "cell_type": "code",
   "execution_count": 26,
   "metadata": {},
   "outputs": [],
   "source": [
    "onehot_cols = ['tiene_tutor']  # la que se le aplicará OneHotEncoder\n",
    "\n",
    "target_cols = ['nivel_dificultad', 'horario_estudio_preferido']\n",
    "\n",
    "label_cols = ['estilo_aprendizaje']"
   ]
  },
  {
   "cell_type": "markdown",
   "metadata": {},
   "source": [
    "`OneHotEncoding`"
   ]
  },
  {
   "cell_type": "code",
   "execution_count": 27,
   "metadata": {},
   "outputs": [],
   "source": [
    "# Codificación OneHot\n",
    "onehot_encoder = OneHotEncoder(drop=None, sparse_output=False, handle_unknown='ignore')\n",
    "onehot_encoded = onehot_encoder.fit_transform(df_clas[onehot_cols])\n",
    "onehot_feature_names = onehot_encoder.get_feature_names_out()\n",
    "df_onehot = pd.DataFrame(onehot_encoded, columns=onehot_feature_names, index=df_clas.index)\n",
    "\n",
    "# Concatenar con el DataFrame original y eliminar las columnas originales\n",
    "df_clas = pd.concat([df_clas.drop(columns=onehot_cols), df_onehot], axis=1)"
   ]
  },
  {
   "cell_type": "markdown",
   "metadata": {},
   "source": [
    "`TargetEncoding`"
   ]
  },
  {
   "cell_type": "code",
   "execution_count": 28,
   "metadata": {},
   "outputs": [
    {
     "data": {
      "application/vnd.microsoft.datawrangler.viewer.v0+json": {
       "columns": [
        {
         "name": "index",
         "rawType": "object",
         "type": "string"
        },
        {
         "name": "0",
         "rawType": "int64",
         "type": "integer"
        }
       ],
       "ref": "4570e948-761a-4a75-b4f0-ee5b33f3ccef",
       "rows": [
        [
         "nota_anterior",
         "0"
        ],
        [
         "tasa_asistencia",
         "0"
        ],
        [
         "horas_sueno",
         "0"
        ],
        [
         "edad",
         "0"
        ],
        [
         "nivel_dificultad",
         "0"
        ],
        [
         "horario_estudio_preferido",
         "0"
        ],
        [
         "estilo_aprendizaje",
         "0"
        ],
        [
         "nota_final",
         "0"
        ],
        [
         "aprobado",
         "0"
        ],
        [
         "horario_estudio_preferido_missing",
         "0"
        ],
        [
         "estilo_aprendizaje_missing",
         "0"
        ],
        [
         "tiene_tutor_No",
         "0"
        ],
        [
         "tiene_tutor_Sí",
         "0"
        ]
       ],
       "shape": {
        "columns": 1,
        "rows": 13
       }
      },
      "text/plain": [
       "nota_anterior                        0\n",
       "tasa_asistencia                      0\n",
       "horas_sueno                          0\n",
       "edad                                 0\n",
       "nivel_dificultad                     0\n",
       "horario_estudio_preferido            0\n",
       "estilo_aprendizaje                   0\n",
       "nota_final                           0\n",
       "aprobado                             0\n",
       "horario_estudio_preferido_missing    0\n",
       "estilo_aprendizaje_missing           0\n",
       "tiene_tutor_No                       0\n",
       "tiene_tutor_Sí                       0\n",
       "dtype: int64"
      ]
     },
     "execution_count": 28,
     "metadata": {},
     "output_type": "execute_result"
    }
   ],
   "source": [
    "df_clas.isna().sum()"
   ]
  },
  {
   "cell_type": "code",
   "execution_count": 29,
   "metadata": {},
   "outputs": [],
   "source": [
    "# Codificación Target Encoding para algunas variables categóricas con category_encoders\n",
    "target_encoder = TargetEncoder(cols=target_cols)\n",
    "df_clas[target_cols] = target_encoder.fit_transform(df_clas[target_cols], df_clas[tv])"
   ]
  },
  {
   "cell_type": "markdown",
   "metadata": {},
   "source": [
    "`LabelEncoding`"
   ]
  },
  {
   "cell_type": "code",
   "execution_count": 30,
   "metadata": {},
   "outputs": [],
   "source": [
    "# Para LabelEncoding necesitamos aplicarlo a las columnas de una en una\n",
    "df_clas[label_cols] = df_clas[label_cols].apply(lambda col: LabelEncoder().fit_transform(col))"
   ]
  },
  {
   "cell_type": "markdown",
   "metadata": {},
   "source": [
    "### Escalado"
   ]
  },
  {
   "cell_type": "markdown",
   "metadata": {},
   "source": [
    "`MinMaxScaler`"
   ]
  },
  {
   "cell_type": "code",
   "execution_count": 31,
   "metadata": {},
   "outputs": [],
   "source": [
    "scaler = MinMaxScaler()\n",
    "df_clas[df_clas.columns] = scaler.fit_transform(df_clas)"
   ]
  },
  {
   "cell_type": "markdown",
   "metadata": {},
   "source": [
    "### Guardamos el dataframe preprocesado"
   ]
  },
  {
   "cell_type": "code",
   "execution_count": 32,
   "metadata": {},
   "outputs": [],
   "source": [
    "df_clas.to_csv('../Data/df_clasificacion.csv')"
   ]
  }
 ],
 "metadata": {
  "kernelspec": {
   "display_name": "env",
   "language": "python",
   "name": "python3"
  },
  "language_info": {
   "codemirror_mode": {
    "name": "ipython",
    "version": 3
   },
   "file_extension": ".py",
   "mimetype": "text/x-python",
   "name": "python",
   "nbconvert_exporter": "python",
   "pygments_lexer": "ipython3",
   "version": "3.13.3"
  }
 },
 "nbformat": 4,
 "nbformat_minor": 2
}
